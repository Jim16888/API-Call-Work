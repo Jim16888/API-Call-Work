{
 "cells": [
  {
   "cell_type": "code",
   "execution_count": 4,
   "id": "a278aa0e-e03b-46eb-bce1-c59d6143c677",
   "metadata": {},
   "outputs": [],
   "source": [
    "import numpy as np"
   ]
  },
  {
   "cell_type": "code",
   "execution_count": 5,
   "id": "203a7860-de4a-4b57-93e0-0c5b3442c2c8",
   "metadata": {
    "tags": []
   },
   "outputs": [],
   "source": [
    "# extract api call from txt file\n",
    "ransomware = ''\n",
    "table = dict()\n",
    "number = 0\n",
    "f = open('./ransomware.txt', 'r')\n",
    "for lines in f:\n",
    "    try:\n",
    "        temp = lines.split('\\t')\n",
    "        function = temp[2].split(' ')[0]\n",
    "        ransomware += (function + ' ') \n",
    "        if not(function in table.keys()):\n",
    "            table[function] = dict()\n",
    "    except:\n",
    "        pass \n",
    "\n",
    "record = []\n",
    "decrypt = ''\n",
    "decrypt_table = dict()\n",
    "f = open('./decrypt.txt', 'r')\n",
    "for lines in f:\n",
    "    try:\n",
    "        temp = lines.split('\\t')\n",
    "        function = temp[2].split(' ')[0]\n",
    "        if('::' in function):\n",
    "            function = function.split('::')[1]\n",
    "        record.append(function)\n",
    "        decrypt += (function + ' ') \n",
    "        if not(function in decrypt_table.keys()):\n",
    "            decrypt_table[function] = dict()\n",
    "    except:\n",
    "        pass \n",
    "ransomware = [ransomware[4:]]\n",
    "decrypt = [decrypt[5:]]\n",
    "data = [ransomware[0],decrypt[0]]\n",
    "\n",
    "del table['API']   \n",
    "del table['']\n",
    "del decrypt_table['API\\n']\n",
    "del decrypt_table['']"
   ]
  },
  {
   "cell_type": "markdown",
   "id": "6affea7a-29b8-4580-a677-844d9be3acaa",
   "metadata": {},
   "source": [
    "# Method 1"
   ]
  },
  {
   "cell_type": "code",
   "execution_count": 6,
   "id": "42df4a47-f012-469a-b80d-58a783390568",
   "metadata": {},
   "outputs": [],
   "source": [
    "# use countervectorizer to calculate the weigth of edge\n",
    "from sklearn.feature_extraction.text import CountVectorizer\n",
    "\n",
    "vectorizer = CountVectorizer(lowercase = False ,ngram_range=(2, 2))\n",
    "ransomware_occurence_times = vectorizer.fit_transform(ransomware)\n",
    "ransomware_edge_kind = vectorizer.get_feature_names()\n",
    "\n",
    "vectorizer = CountVectorizer(lowercase = False ,ngram_range=(2, 2))\n",
    "decrypt_occurence_times = vectorizer.fit_transform(decrypt)\n",
    "decrypt_edge_kind = vectorizer.get_feature_names()\n",
    "\n",
    "vectorizer = CountVectorizer(lowercase = False ,ngram_range=(2, 2))\n",
    "data_occurence = vectorizer.fit_transform(data)\n",
    "data_edge_kind = vectorizer.get_feature_names()"
   ]
  },
  {
   "cell_type": "code",
   "execution_count": 7,
   "id": "508731b9-4032-44b4-b7bc-38bfc9d958b5",
   "metadata": {},
   "outputs": [],
   "source": [
    "data_occurence = data_occurence.toarray()"
   ]
  },
  {
   "cell_type": "code",
   "execution_count": 8,
   "id": "f2419704-e664-44d2-911c-b5fcd4da2fad",
   "metadata": {},
   "outputs": [],
   "source": [
    "# use dictionary to record the relation between node\n",
    "for i in data_edge_kind:\n",
    "    try:\n",
    "        start = i.split(' ')[0]\n",
    "        end = i.split(' ')[1]\n",
    "        temp = data_occurence[0,data_edge_kind.index(i)]\n",
    "        if(temp):\n",
    "            table[start][end] = temp\n",
    "    except:\n",
    "        pass\n",
    "    \n",
    "for i in data_edge_kind:\n",
    "    try:\n",
    "        start = i.split(' ')[0]\n",
    "        end = i.split(' ')[1]\n",
    "        temp = data_occurence[1,data_edge_kind.index(i)]\n",
    "        if(temp):\n",
    "            decrypt_table[start][end] = temp\n",
    "    except:\n",
    "        pass"
   ]
  },
  {
   "cell_type": "code",
   "execution_count": 10,
   "id": "5745b0c6-24be-482f-885a-d18be1e504d7",
   "metadata": {
    "tags": []
   },
   "outputs": [],
   "source": [
    "total_edge = sorted(list(set(list(decrypt_table.keys()) + list(table.keys()))))"
   ]
  },
  {
   "cell_type": "code",
   "execution_count": 11,
   "id": "c0ca5234-0a99-49f0-aa44-ecdf9caed7bc",
   "metadata": {
    "tags": []
   },
   "outputs": [],
   "source": [
    "# create the adjacency matrix \n",
    "ransomware_matrix = np.zeros((len(total_edge),len(total_edge)))\n",
    "for i in list(table.keys()):\n",
    "    for j in list(table[i].keys()):\n",
    "        try:\n",
    "            ransomware_matrix[total_edge.index(i),total_edge.index(j)] = table[i][j]\n",
    "        except:\n",
    "            print(i,j)\n",
    "            \n",
    "decrypt_matrix= np.zeros((len(total_edge),len(total_edge)))\n",
    "for i in list(decrypt_table.keys()):\n",
    "    for j in list(decrypt_table[i].keys()):\n",
    "        try:\n",
    "            decrypt_matrix[total_edge.index(i),total_edge.index(j)] = decrypt_table[i][j]\n",
    "        except:\n",
    "            print(i,j)"
   ]
  },
  {
   "cell_type": "code",
   "execution_count": 13,
   "id": "23905918-0b9d-4e03-a8ce-c9cb0c8cdb92",
   "metadata": {},
   "outputs": [
    {
     "data": {
      "text/plain": [
       "array([[   0.,    0.,    0., ...,    0.,    0.,    0.],\n",
       "       [   0.,    0.,    0., ...,    0.,    0.,    0.],\n",
       "       [   0.,    0.,    0., ...,    0.,    0.,    0.],\n",
       "       ...,\n",
       "       [   0.,    0.,    0., ...,    0.,    0.,    0.],\n",
       "       [   0.,    0.,    0., ...,    0., 7556.,    0.],\n",
       "       [   0.,    0.,    0., ...,    0.,    0.,    0.]])"
      ]
     },
     "execution_count": 13,
     "metadata": {},
     "output_type": "execute_result"
    }
   ],
   "source": [
    "decrypt_matrix"
   ]
  },
  {
   "cell_type": "code",
   "execution_count": 14,
   "id": "5d21bbf1-0e21-4b95-b0da-014815e5f42c",
   "metadata": {},
   "outputs": [],
   "source": [
    "# calculate the eigenvalue and eigenvector \n",
    "ran_val, ran_vec = np.linalg.eig(ransomware_matrix)\n",
    "dec_val, dec_vec = np.linalg.eig(decrypt_matrix)"
   ]
  },
  {
   "cell_type": "code",
   "execution_count": 15,
   "id": "93e57280-19c5-4a03-aa88-5e529199a3d3",
   "metadata": {},
   "outputs": [],
   "source": [
    "ran_vector = ran_vec[ran_val.tolist().index(max(ran_val))]\n",
    "dec_vector = dec_vec[dec_val.tolist().index(max(dec_val))]"
   ]
  },
  {
   "cell_type": "code",
   "execution_count": 16,
   "id": "0ac084fe-a868-4ec2-bf31-ab6b066b495a",
   "metadata": {},
   "outputs": [],
   "source": [
    "# calculate the Euclidean distance\n",
    "result = np.sqrt(np.sum(ran_vector - dec_vector))"
   ]
  },
  {
   "cell_type": "code",
   "execution_count": 36,
   "id": "f71d2a67-65fa-4e68-aaa9-0b2354bbd0de",
   "metadata": {},
   "outputs": [],
   "source": [
    "# function to calculate the cosine similarity\n",
    "def cosine_similarity(x,y):\n",
    "    num = x.dot(y.T)\n",
    "    denom = np.linalg.norm(x) * np.linalg.norm(y)\n",
    "    return num / denom"
   ]
  },
  {
   "cell_type": "code",
   "execution_count": 25,
   "id": "152f69ef-5dbf-4b48-a9e2-2508843f4835",
   "metadata": {},
   "outputs": [
    {
     "data": {
      "text/plain": [
       "(0.002487991804125693-0.03731834688382809j)"
      ]
     },
     "execution_count": 25,
     "metadata": {},
     "output_type": "execute_result"
    }
   ],
   "source": [
    "# calculate the cosine similarity\n",
    "cosine_similarity(ran_vector, dec_vector)"
   ]
  },
  {
   "cell_type": "markdown",
   "id": "70ed5515-bb4e-4cbf-a9c2-9f0017a9b1b1",
   "metadata": {},
   "source": [
    "# Method 2"
   ]
  },
  {
   "cell_type": "code",
   "execution_count": 18,
   "id": "c4acfd23-b3e1-4e07-bdf8-8c1b1ff7f983",
   "metadata": {},
   "outputs": [],
   "source": [
    "import networkx as nx"
   ]
  },
  {
   "cell_type": "code",
   "execution_count": 19,
   "id": "249339c1-ffd6-4cb1-bd25-96424a484bab",
   "metadata": {},
   "outputs": [],
   "source": [
    "# Generate the graph of two file\n",
    "g_ran = nx.Graph()\n",
    "for i in list(table.keys()):\n",
    "    for j in list(table[i].keys()):\n",
    "        g_ran.add_edge(i,j, weight = table[i][j])\n",
    "\n",
    "        \n",
    "g_dec = nx.Graph()\n",
    "for i in list(decrypt_table.keys()):\n",
    "    for j in list(decrypt_table[i].keys()):\n",
    "        g_dec.add_edge(i,j, weight = decrypt_table[i][j])"
   ]
  },
  {
   "cell_type": "code",
   "execution_count": 37,
   "id": "4f6cb746-1f19-4b9a-be3d-fad627f38f9f",
   "metadata": {},
   "outputs": [],
   "source": [
    "# the function to generate the feature \n",
    "def get_density(G):\n",
    "\n",
    "    degree = {d[0]: d[1] for d in G.degree(G.nodes())}\n",
    "    density = (sum(degree.values())/(len(degree)-1)) / len(degree)\n",
    "\n",
    "    return [density]\n",
    "\n",
    "def shortest_path(G):\n",
    "    shortest_path = nx.average_shortest_path_length(G)\n",
    "    return [shortest_path]\n",
    "\n",
    "def closeness_centrality(G):\n",
    "\n",
    "    List = list(nx.closeness_centrality(G).values())\n",
    "    closeness_centrality = []\n",
    "    closeness_centrality.append(np.mean(List))\n",
    "    closeness_centrality.append(np.max(List))\n",
    "    closeness_centrality.append(np.min(List))\n",
    "    closeness_centrality.append(np.median(List))\n",
    "    closeness_centrality.append(np.std(List))\n",
    "    return closeness_centrality\n",
    "\n",
    "def degree_centrality(G):\n",
    "\n",
    "    List = list(nx.degree_centrality(G).values())\n",
    "    degree_centrality = []\n",
    "    degree_centrality.append(np.mean(List))\n",
    "    degree_centrality.append(np.max(List))\n",
    "    degree_centrality.append(np.min(List))\n",
    "    degree_centrality.append(np.median(List))\n",
    "    degree_centrality.append(np.std(List))\n",
    "\n",
    "    return degree_centrality\n",
    "\n",
    "def node_and_edge(G):\n",
    "    return [len(G.nodes()), len(G.edges())]\n",
    "\n",
    "def generate_vec(G):\n",
    "    vec = node_and_edge(G) + get_density(G) + shortest_path(G) + closeness_centrality(G) + degree_centrality(G)\n",
    "    return(vec)"
   ]
  },
  {
   "cell_type": "code",
   "execution_count": 22,
   "id": "40fcabc4-c546-4e57-bf82-c9ae412b1ed8",
   "metadata": {},
   "outputs": [],
   "source": [
    "vec_gan = np.array(generate_vec(g_ran))\n",
    "vec_dec = np.array(generate_vec(g_dec))"
   ]
  },
  {
   "cell_type": "code",
   "execution_count": 24,
   "id": "4bfb5d7c-40ae-4347-90ec-979dd05f6075",
   "metadata": {},
   "outputs": [
    {
     "data": {
      "text/plain": [
       "0.9990533007920036"
      ]
     },
     "execution_count": 24,
     "metadata": {},
     "output_type": "execute_result"
    }
   ],
   "source": [
    "# calculate the cosine similarity\n",
    "cosine_similarity(vec_dec,vec_gan)"
   ]
  },
  {
   "cell_type": "markdown",
   "id": "dcdeeabe-8aa8-44f2-b91c-23842d02350c",
   "metadata": {},
   "source": [
    "## Compare the feature between two graph"
   ]
  },
  {
   "cell_type": "code",
   "execution_count": 26,
   "id": "b03527cf-e005-4d2c-a948-6de9395af120",
   "metadata": {},
   "outputs": [
    {
     "data": {
      "text/plain": [
       "[0.017927730514737474,\n",
       " 0.26450116009280744,\n",
       " 0.002320185614849188,\n",
       " 0.009280742459396751,\n",
       " 0.03053233451413935]"
      ]
     },
     "execution_count": 26,
     "metadata": {},
     "output_type": "execute_result"
    }
   ],
   "source": [
    "degree_centrality(g_dec)"
   ]
  },
  {
   "cell_type": "code",
   "execution_count": 27,
   "id": "78ef4af2-64c7-4da0-a17b-df4308232e78",
   "metadata": {},
   "outputs": [
    {
     "data": {
      "text/plain": [
       "[0.01827660458615088,\n",
       " 0.30739299610894943,\n",
       " 0.0019455252918287938,\n",
       " 0.007782101167315175,\n",
       " 0.03270408812562848]"
      ]
     },
     "execution_count": 27,
     "metadata": {},
     "output_type": "execute_result"
    }
   ],
   "source": [
    "degree_centrality(g_ran)"
   ]
  },
  {
   "cell_type": "code",
   "execution_count": 28,
   "id": "2864571a-2879-442b-b80a-166859ec1352",
   "metadata": {},
   "outputs": [
    {
     "data": {
      "text/plain": [
       "[0.35407609304112,\n",
       " 0.53875,\n",
       " 0.2260094389092816,\n",
       " 0.3512632436837816,\n",
       " 0.04790165066469869]"
      ]
     },
     "execution_count": 28,
     "metadata": {},
     "output_type": "execute_result"
    }
   ],
   "source": [
    "closeness_centrality(g_dec)"
   ]
  },
  {
   "cell_type": "code",
   "execution_count": 29,
   "id": "05b4adbf-485b-4ae1-8c13-ceb1334c6366",
   "metadata": {},
   "outputs": [
    {
     "data": {
      "text/plain": [
       "[0.3707564302836897,\n",
       " 0.5717463848720801,\n",
       " 0.25623130608175476,\n",
       " 0.3660968660968661,\n",
       " 0.0479681902241983]"
      ]
     },
     "execution_count": 29,
     "metadata": {},
     "output_type": "execute_result"
    }
   ],
   "source": [
    "closeness_centrality(g_ran)"
   ]
  },
  {
   "cell_type": "code",
   "execution_count": 30,
   "id": "64a38a84-f693-4207-bc27-535d3c2f8c9f",
   "metadata": {},
   "outputs": [
    {
     "data": {
      "text/plain": [
       "[2.8751718656011]"
      ]
     },
     "execution_count": 30,
     "metadata": {},
     "output_type": "execute_result"
    }
   ],
   "source": [
    "shortest_path(g_dec)"
   ]
  },
  {
   "cell_type": "code",
   "execution_count": 31,
   "id": "1fa6072c-8b9d-48c4-a9fa-5dfd975642af",
   "metadata": {},
   "outputs": [
    {
     "data": {
      "text/plain": [
       "[2.7412564693438104]"
      ]
     },
     "execution_count": 31,
     "metadata": {},
     "output_type": "execute_result"
    }
   ],
   "source": [
    "shortest_path(g_ran)"
   ]
  },
  {
   "cell_type": "code",
   "execution_count": 32,
   "id": "6bf4bf7c-baa7-40aa-bbf8-7128c1f47412",
   "metadata": {},
   "outputs": [
    {
     "data": {
      "text/plain": [
       "[0.017927730514737474]"
      ]
     },
     "execution_count": 32,
     "metadata": {},
     "output_type": "execute_result"
    }
   ],
   "source": [
    "get_density(g_dec)"
   ]
  },
  {
   "cell_type": "code",
   "execution_count": 33,
   "id": "a4ac53a9-d8b9-49fb-9349-483f801c139d",
   "metadata": {},
   "outputs": [
    {
     "data": {
      "text/plain": [
       "[0.018276604586150883]"
      ]
     },
     "execution_count": 33,
     "metadata": {},
     "output_type": "execute_result"
    }
   ],
   "source": [
    "get_density(g_ran)"
   ]
  },
  {
   "cell_type": "code",
   "execution_count": 34,
   "id": "d951df79-d811-478c-9f47-8b09e95cbad6",
   "metadata": {},
   "outputs": [
    {
     "data": {
      "text/plain": [
       "[432, 1669]"
      ]
     },
     "execution_count": 34,
     "metadata": {},
     "output_type": "execute_result"
    }
   ],
   "source": [
    "node_and_edge(g_dec)"
   ]
  },
  {
   "cell_type": "code",
   "execution_count": 35,
   "id": "db38c4a9-ebd1-482b-bc8f-95a1271b0f71",
   "metadata": {},
   "outputs": [
    {
     "data": {
      "text/plain": [
       "[515, 2419]"
      ]
     },
     "execution_count": 35,
     "metadata": {},
     "output_type": "execute_result"
    }
   ],
   "source": [
    "node_and_edge(g_ran)"
   ]
  },
  {
   "cell_type": "code",
   "execution_count": 38,
   "id": "f3a685c6-44e1-48e0-8e18-e6a6ae5ebbff",
   "metadata": {},
   "outputs": [],
   "source": [
    "import pickle"
   ]
  },
  {
   "cell_type": "markdown",
   "id": "fae45040-4e78-46f4-b577-dd772a2bbdbe",
   "metadata": {},
   "source": [
    "### Save graph"
   ]
  },
  {
   "cell_type": "code",
   "execution_count": 40,
   "id": "b861ec76-3580-418d-a809-0a33de2ceac5",
   "metadata": {},
   "outputs": [],
   "source": [
    "pickle.dump(g_ran, open('./ransomware.pkl','wb'))"
   ]
  },
  {
   "cell_type": "code",
   "execution_count": 44,
   "id": "72dea7c2-6925-4b60-8d7a-0aada7593382",
   "metadata": {},
   "outputs": [],
   "source": [
    "pickle.dump(g_dec, open('./decrypt.pkl','wb'))"
   ]
  },
  {
   "cell_type": "code",
   "execution_count": null,
   "id": "c91e6e1c-13d0-476b-a857-57b4ce87d137",
   "metadata": {},
   "outputs": [],
   "source": []
  }
 ],
 "metadata": {
  "kernelspec": {
   "display_name": "Python 3 (ipykernel)",
   "language": "python",
   "name": "python3"
  },
  "language_info": {
   "codemirror_mode": {
    "name": "ipython",
    "version": 3
   },
   "file_extension": ".py",
   "mimetype": "text/x-python",
   "name": "python",
   "nbconvert_exporter": "python",
   "pygments_lexer": "ipython3",
   "version": "3.9.7"
  }
 },
 "nbformat": 4,
 "nbformat_minor": 5
}
